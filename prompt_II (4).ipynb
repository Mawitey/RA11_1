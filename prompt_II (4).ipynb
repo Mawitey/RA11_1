{
  "cells": [
    {
      "cell_type": "markdown",
      "metadata": {
        "id": "pS_3cP0BC1LZ"
      },
      "source": [
        "# What drives the price of a car?\n",
        "\n",
        "![](images/kurt.jpeg)"
      ]
    },
    {
      "cell_type": "markdown",
      "metadata": {
        "id": "Yylawp1QC1La"
      },
      "source": [
        "**OVERVIEW**\n",
        "\n",
        "In this application, you will explore a dataset from Kaggle. The original dataset contained information on 3 million used cars. The provided dataset contains information on 426K cars to ensure speed of processing.  Your goal is to understand what factors make a car more or less expensive.  As a result of your analysis, you should provide clear recommendations to your client -- a used car dealership -- as to what consumers value in a used car."
      ]
    },
    {
      "cell_type": "markdown",
      "metadata": {
        "id": "9d6i5-ofC1La"
      },
      "source": [
        "### CRISP-DM Framework\n",
        "\n",
        "<center>\n",
        "    <img src = images/crisp.png width = 50%/>\n",
        "</center>\n",
        "\n",
        "\n",
        "To frame the task, throughout our practical applications, we will refer back to a standard process in industry for data projects called CRISP-DM.  This process provides a framework for working through a data problem.  Your first step in this application will be to read through a brief overview of CRISP-DM [here](https://mo-pcco.s3.us-east-1.amazonaws.com/BH-PCMLAI/module_11/readings_starter.zip).  After reading the overview, answer the questions below."
      ]
    },
    {
      "cell_type": "markdown",
      "metadata": {
        "id": "yW8GDgU4C1Lb"
      },
      "source": [
        "### Business Understanding\n",
        "\n",
        "From a business perspective, we are tasked with identifying key drivers for used car prices.  In the CRISP-DM overview, we are asked to convert this business framing to a data problem definition.  Using a few sentences, reframe the task as a data task with the appropriate technical vocabulary."
      ]
    },
    {
      "cell_type": "code",
      "execution_count": null,
      "metadata": {
        "id": "m4SRlO5UC1Lb"
      },
      "outputs": [],
      "source": [
        "predicting the price of a used car, using features like mileage and year"
      ]
    },
    {
      "cell_type": "code",
      "execution_count": null,
      "metadata": {
        "id": "BV2p2wS6C1Lb"
      },
      "outputs": [],
      "source": []
    },
    {
      "cell_type": "code",
      "execution_count": null,
      "metadata": {
        "id": "TSUoos9iC1Lb"
      },
      "outputs": [],
      "source": []
    },
    {
      "cell_type": "code",
      "execution_count": null,
      "metadata": {
        "id": "X36jDMirC1Lb"
      },
      "outputs": [],
      "source": []
    },
    {
      "cell_type": "markdown",
      "metadata": {
        "id": "B00wcKe1C1Lc"
      },
      "source": [
        "### Data Understanding\n",
        "\n",
        "After considering the business understanding, we want to get familiar with our data.  Write down some steps that you would take to get to know the dataset and identify any quality issues within.  Take time to get to know the dataset and explore what information it contains and how this could be used to inform your business understanding."
      ]
    },
    {
      "cell_type": "code",
      "execution_count": 47,
      "metadata": {
        "id": "KdVD-jQpC1Lc"
      },
      "outputs": [],
      "source": [
        "import pandas as pd\n",
        "import numpy as np\n",
        "import matplotlib.pyplot as plt\n",
        "import seaborn as sns\n",
        "import warnings\n",
        "from sklearn.model_selection import train_test_split\n",
        "from sklearn.pipeline import Pipeline, make_pipeline\n",
        "from sklearn.linear_model import LinearRegression\n",
        "from sklearn.preprocessing import StandardScaler, PolynomialFeatures\n",
        "from sklearn.metrics import mean_squared_error\n",
        "from sklearn.linear_model import Ridge\n",
        "from sklearn.linear_model import Lasso\n",
        "warnings.filterwarnings('ignore')"
      ]
    },
    {
      "cell_type": "code",
      "execution_count": 50,
      "metadata": {
        "colab": {
          "base_uri": "https://localhost:8080/"
        },
        "id": "erEHlOSBC1Lc",
        "outputId": "2f67f8da-e9c9-45b2-f112-70d5c7394dfa"
      },
      "outputs": [
        {
          "output_type": "stream",
          "name": "stdout",
          "text": [
            "id              0\n",
            "region          0\n",
            "price           0\n",
            "year            0\n",
            "manufacturer    0\n",
            "model           0\n",
            "condition       0\n",
            "cylinders       0\n",
            "fuel            0\n",
            "odometer        0\n",
            "title_status    0\n",
            "transmission    0\n",
            "VIN             0\n",
            "drive           0\n",
            "size            0\n",
            "type            0\n",
            "paint_color     0\n",
            "state           0\n",
            "dtype: int64\n",
            "             id      region  price    year manufacturer              model  \\\n",
            "126  7305672709      auburn      0  2018.0    chevrolet  express cargo van   \n",
            "127  7305672266      auburn      0  2019.0    chevrolet  express cargo van   \n",
            "128  7305672252      auburn      0  2018.0    chevrolet  express cargo van   \n",
            "215  7316482063  birmingham   4000  2002.0       toyota               echo   \n",
            "219  7316429417  birmingham   2500  1995.0          bmw               525i   \n",
            "\n",
            "     condition    cylinders fuel  odometer title_status transmission  \\\n",
            "126   like new  6 cylinders  gas   68472.0        clean    automatic   \n",
            "127   like new  6 cylinders  gas   69125.0        clean    automatic   \n",
            "128   like new  6 cylinders  gas   66555.0        clean    automatic   \n",
            "215  excellent  4 cylinders  gas  155000.0        clean    automatic   \n",
            "219       fair  6 cylinders  gas  110661.0        clean    automatic   \n",
            "\n",
            "                   VIN drive       size   type paint_color state  \n",
            "126  1GCWGAFP8J1309579   rwd  full-size    van       white    al  \n",
            "127  1GCWGAFP4K1214373   rwd  full-size    van       white    al  \n",
            "128  1GCWGAFPXJ1337903   rwd  full-size    van       white    al  \n",
            "215  JTDBT123520243495   fwd    compact  sedan        blue    al  \n",
            "219  WBAHD6322SGK86772   rwd   mid-size  sedan       white    al  \n",
            "<class 'pandas.core.frame.DataFrame'>\n",
            "Index: 34868 entries, 126 to 426836\n",
            "Data columns (total 18 columns):\n",
            " #   Column        Non-Null Count  Dtype  \n",
            "---  ------        --------------  -----  \n",
            " 0   id            34868 non-null  int64  \n",
            " 1   region        34868 non-null  object \n",
            " 2   price         34868 non-null  int64  \n",
            " 3   year          34868 non-null  float64\n",
            " 4   manufacturer  34868 non-null  object \n",
            " 5   model         34868 non-null  object \n",
            " 6   condition     34868 non-null  object \n",
            " 7   cylinders     34868 non-null  object \n",
            " 8   fuel          34868 non-null  object \n",
            " 9   odometer      34868 non-null  float64\n",
            " 10  title_status  34868 non-null  object \n",
            " 11  transmission  34868 non-null  object \n",
            " 12  VIN           34868 non-null  object \n",
            " 13  drive         34868 non-null  object \n",
            " 14  size          34868 non-null  object \n",
            " 15  type          34868 non-null  object \n",
            " 16  paint_color   34868 non-null  object \n",
            " 17  state         34868 non-null  object \n",
            "dtypes: float64(2), int64(2), object(14)\n",
            "memory usage: 5.1+ MB\n",
            "None\n",
            "                 id          price          year      odometer\n",
            "count  3.486800e+04   34868.000000  34868.000000  3.486800e+04\n",
            "mean   7.311508e+09   15837.446771   2011.176867  1.073991e+05\n",
            "std    4.299751e+06   13460.056823      7.162332  9.990878e+04\n",
            "min    7.301592e+09       0.000000   1905.000000  0.000000e+00\n",
            "25%    7.308189e+09    6500.000000   2008.000000  6.516400e+04\n",
            "50%    7.312225e+09   12000.000000   2013.000000  1.040000e+05\n",
            "75%    7.315136e+09   22003.500000   2016.000000  1.411678e+05\n",
            "max    7.317099e+09  155000.000000   2022.000000  9.999999e+06\n",
            "mean of price  15837.446770677985\n"
          ]
        }
      ],
      "source": [
        "#Read the file\n",
        "df = pd.read_csv('vehicles.csv')\n",
        "# Drop all rows with missing values to ensure clean and complete data for modeling\n",
        "df = df.dropna()\n",
        "# Display the number of missing (NaN) values in each column of the dataset\n",
        "print(df.isnull().sum())\n",
        "print(df.head())\n",
        "print(df.info())\n",
        "print(df.describe())\n",
        "#Average price baseline\n",
        "print(\"mean of price \", df['price'].mean())"
      ]
    },
    {
      "cell_type": "code",
      "execution_count": 76,
      "metadata": {
        "colab": {
          "base_uri": "https://localhost:8080/",
          "height": 472
        },
        "id": "0FDNPi-hC1Lc",
        "outputId": "7433e710-9e9c-41b9-9eea-fadb7dbf7264"
      },
      "outputs": [
        {
          "output_type": "display_data",
          "data": {
            "text/plain": [
              "<Figure size 640x480 with 1 Axes>"
            ],
            "image/png": "[encoded data removed]"
          },
          "metadata": {}
        }
      ],
      "source": [
        "#Display a histogram of the prices of the car\n",
        "sns.histplot(df['price'])\n",
        "plt.title('Price Distribution')\n",
        "plt.xlabel('Price')\n",
        "plt.ylabel('Count')\n",
        "plt.show()"
      ]
    },
    {
      "cell_type": "code",
      "execution_count": 109,
      "metadata": {
        "id": "ClT70QwxC1Lc"
      },
      "outputs": [],
      "source": []
    },
    {
      "cell_type": "markdown",
      "metadata": {
        "id": "BNYoNYDgC1Lc"
      },
      "source": [
        "### Data Preparation\n",
        "\n",
        "After our initial exploration and fine-tuning of the business understanding, it is time to construct our final dataset prior to modeling.  Here, we want to make sure to handle any integrity issues and cleaning, the engineering of new features, any transformations that we believe should happen (scaling, logarithms, normalization, etc.), and general preparation for modeling with `sklearn`."
      ]
    },
    {
      "cell_type": "code",
      "execution_count": 99,
      "metadata": {
        "colab": {
          "base_uri": "https://localhost:8080/",
          "height": 472
        },
        "id": "Znn3oBb5C1Lc",
        "outputId": "bc26ed5d-6fe6-4e6b-d6c6-ed0b69e3759a"
      },
      "outputs": [
        {
          "output_type": "display_data",
          "data": {
            "text/plain": [
              "<Figure size 640x480 with 1 Axes>"
            ],
            "image/png": "[encoded data removed]"
          },
          "metadata": {}
        }
      ],
      "source": [
        "#Removing the cars with prices showing $0 price\n",
        "df_non_zero = df[df['price'] != 0]\n",
        "sns.histplot(df_non_zero['price'])\n",
        "plt.title('Price Distribution')\n",
        "plt.xlabel('Price')\n",
        "plt.ylabel('Count')\n",
        "plt.show()"
      ]
    },
    {
      "cell_type": "markdown",
      "source": [],
      "metadata": {
        "id": "mbLgSewfDXid"
      }
    },
    {
      "cell_type": "code",
      "execution_count": 101,
      "metadata": {
        "id": "Uc3Dcq_aC1Lc"
      },
      "outputs": [],
      "source": [
        "# Remove the target variable 'price' from the dataset to create the feature matrix X\n",
        "X = df_non_zero.drop('price', axis = 1)\n",
        "# Extract the target variable 'price' as the response vector y\n",
        "y = df_non_zero['price']"
      ]
    },
    {
      "cell_type": "code",
      "execution_count": 102,
      "metadata": {
        "colab": {
          "base_uri": "https://localhost:8080/"
        },
        "id": "HJT924GFC1Ld",
        "outputId": "094e274a-0cb7-4a42-d4da-cdddc4d4cf8d"
      },
      "outputs": [
        {
          "output_type": "stream",
          "name": "stdout",
          "text": [
            "year        float64\n",
            "odometer    float64\n",
            "dtype: object\n"
          ]
        }
      ],
      "source": [
        "# Keep only numerical columns (int and float types) in the feature matrix X\n",
        "X = X.select_dtypes(include=['int64', 'float64'])\n",
        "X = X.drop('id', axis = 1)\n",
        "print(X.dtypes)"
      ]
    },
    {
      "cell_type": "code",
      "execution_count": 103,
      "metadata": {
        "id": "Yud-dk3PC1Ld"
      },
      "outputs": [],
      "source": [
        "# Split the dataset into training and testing sets (80% train, 20% test) for model evaluation\n",
        "X_train, X_test, y_train, y_test = train_test_split(X, y, test_size = 0.2, random_state = 42)"
      ]
    },
    {
      "cell_type": "code",
      "execution_count": null,
      "metadata": {
        "id": "tqRKG9LkC1Ld"
      },
      "outputs": [],
      "source": []
    },
    {
      "cell_type": "markdown",
      "metadata": {
        "id": "y3YGJ5KuC1Ld"
      },
      "source": [
        "### Modeling\n",
        "\n",
        "With your (almost?) final dataset in hand, it is now time to build some models.  Here, you should build a number of different regression models with the price as the target.  In building your models, you should explore different parameters and be sure to cross-validate your findings."
      ]
    },
    {
      "cell_type": "code",
      "execution_count": 104,
      "metadata": {
        "colab": {
          "base_uri": "https://localhost:8080/"
        },
        "id": "sMTD9Ao0C1Ld",
        "outputId": "0951efce-9133-41ce-b890-2a4a2b5f3b0b"
      },
      "outputs": [
        {
          "output_type": "stream",
          "name": "stdout",
          "text": [
            "[ 3559.53477571 -2620.69259581]\n"
          ]
        }
      ],
      "source": [
        "# Create a pipeline that applies polynomial feature transformation (degree 1) followed by linear regression\n",
        "pipe = make_pipeline(\n",
        "    PolynomialFeatures(degree = 1, include_bias = False),\n",
        "    StandardScaler(),\n",
        "    LinearRegression()\n",
        ")\n",
        "pipe.fit(X_train, y_train)\n",
        "coef = pipe.named_steps['linearregression'].coef_\n",
        "print(coef)\n",
        "pred = pipe.predict(X_test)"
      ]
    },
    {
      "cell_type": "code",
      "execution_count": 105,
      "metadata": {
        "colab": {
          "base_uri": "https://localhost:8080/"
        },
        "id": "jx5OQZF9C1Ld",
        "outputId": "5e936f21-b269-46aa-b920-466948a0fee4"
      },
      "outputs": [
        {
          "output_type": "stream",
          "name": "stdout",
          "text": [
            "[ 3559.41398657 -2620.61786128]\n"
          ]
        }
      ],
      "source": [
        "#Ridge regression\n",
        "model_Ridge = make_pipeline(\n",
        "    PolynomialFeatures(degree = 1, include_bias = False),\n",
        "    StandardScaler(),\n",
        "    Ridge(alpha=1.0)\n",
        ")\n",
        "model_Ridge.fit(X_train, y_train)\n",
        "#Ridge(alpha=1.0).fit(X_train, y_train)\n",
        "ridge_coef = model_Ridge.named_steps['ridge'].coef_\n",
        "print(ridge_coef)\n",
        "pred_Ridge = model_Ridge.predict(X_test)\n"
      ]
    },
    {
      "cell_type": "code",
      "execution_count": 106,
      "metadata": {
        "colab": {
          "base_uri": "https://localhost:8080/"
        },
        "id": "CpmTynsdC1Ld",
        "outputId": "9740e9bb-2433-4183-ba4c-14b554fd15d7"
      },
      "outputs": [
        {
          "output_type": "stream",
          "name": "stdout",
          "text": [
            "[ 3559.52921814 -2620.68379549]\n"
          ]
        }
      ],
      "source": [
        "#Lasso regression\n",
        "pipe_Lasso = make_pipeline(\n",
        "    PolynomialFeatures(degree = 1, include_bias = False),\n",
        "    StandardScaler(),\n",
        "    Lasso(alpha = 0.01)\n",
        ")\n",
        "pipe_Lasso.fit(X_train, y_train)\n",
        "lasso_coef = pipe_Lasso.named_steps['lasso'].coef_\n",
        "print(lasso_coef)\n",
        "pred_Lasso = pipe_Lasso.predict(X_test)\n",
        "\n",
        "\n"
      ]
    },
    {
      "cell_type": "code",
      "execution_count": null,
      "metadata": {
        "id": "AznB8gN7C1Ld"
      },
      "outputs": [],
      "source": []
    },
    {
      "cell_type": "markdown",
      "metadata": {
        "id": "-E51eUAjC1Ld"
      },
      "source": [
        "### Evaluation\n",
        "\n",
        "With some modeling accomplished, we aim to reflect on what we identify as a high-quality model and what we are able to learn from this.  We should review our business objective and explore how well we can provide meaningful insight into drivers of used car prices.  Your goal now is to distill your findings and determine whether the earlier phases need revisitation and adjustment or if you have information of value to bring back to your client."
      ]
    },
    {
      "cell_type": "code",
      "execution_count": 107,
      "metadata": {
        "colab": {
          "base_uri": "https://localhost:8080/"
        },
        "id": "SYNqgvHIC1Ld",
        "outputId": "11de9bcc-ee78-4f6a-c192-be056e3e09b3"
      },
      "outputs": [
        {
          "output_type": "stream",
          "name": "stdout",
          "text": [
            "RMSE: 12592.38\n",
            "Sample predictions: [22054.44205397 17019.50838375 13703.6710389  15780.06192193\n",
            " 11458.65847043]\n",
            "Actual values: [29950 15900  5849 17750  7500]\n"
          ]
        }
      ],
      "source": [
        "#Display the square root error\n",
        "mse = mean_squared_error(y_test, pred)\n",
        "rmse = np.sqrt(mse)\n",
        "print(f'RMSE: {rmse:.2f}')\n",
        "print(\"Sample predictions:\", pred[:5])\n",
        "print(\"Actual values:\", y_test[:5].values)\n",
        "\n",
        "\n"
      ]
    },
    {
      "cell_type": "code",
      "execution_count": 108,
      "metadata": {
        "colab": {
          "base_uri": "https://localhost:8080/"
        },
        "id": "SHrrY2r9C1Ld",
        "outputId": "6b18497b-a506-46f3-f59a-f0e4ea1b08fc"
      },
      "outputs": [
        {
          "output_type": "stream",
          "name": "stdout",
          "text": [
            "RMSE: 12592.36\n"
          ]
        }
      ],
      "source": [
        "mse = mean_squared_error(y_test, pred_Ridge)\n",
        "rmse = np.sqrt(mse)\n",
        "print(f'RMSE: {rmse:.2f}')"
      ]
    },
    {
      "cell_type": "code",
      "execution_count": 109,
      "metadata": {
        "colab": {
          "base_uri": "https://localhost:8080/"
        },
        "id": "IAhAzaJHC1Ld",
        "outputId": "a064334f-485e-4270-92b8-7f11505d21ef"
      },
      "outputs": [
        {
          "output_type": "stream",
          "name": "stdout",
          "text": [
            "RMSE: 12592.38\n"
          ]
        }
      ],
      "source": [
        "rmse = np.sqrt(mean_squared_error(y_test, pred_Lasso))\n",
        "print(f'RMSE: {rmse:.2f}')"
      ]
    },
    {
      "cell_type": "code",
      "execution_count": null,
      "metadata": {
        "id": "2eXQEQBbC1Ld"
      },
      "outputs": [],
      "source": []
    },
    {
      "cell_type": "code",
      "execution_count": null,
      "metadata": {
        "id": "Mzlipp2gC1Le"
      },
      "outputs": [],
      "source": []
    },
    {
      "cell_type": "code",
      "execution_count": null,
      "metadata": {
        "id": "GADy5uE6C1Le"
      },
      "outputs": [],
      "source": []
    },
    {
      "cell_type": "markdown",
      "metadata": {
        "id": "clVIsooOC1Le"
      },
      "source": [
        "### Deployment\n",
        "\n",
        "Now that we've settled on our models and findings, it is time to deliver the information to the client.  You should organize your work as a basic report that details your primary findings.  Keep in mind that your audience is a group of used car dealers interested in fine-tuning their inventory."
      ]
    },
    {
      "cell_type": "code",
      "execution_count": null,
      "metadata": {
        "id": "vPGpnl5MC1Le"
      },
      "outputs": [],
      "source": []
    },
    {
      "cell_type": "code",
      "execution_count": null,
      "metadata": {
        "id": "3CVMWpzWC1Le"
      },
      "outputs": [],
      "source": []
    },
    {
      "cell_type": "code",
      "execution_count": null,
      "metadata": {
        "id": "Ry57UC9IC1Le"
      },
      "outputs": [],
      "source": []
    },
    {
      "cell_type": "code",
      "execution_count": null,
      "metadata": {
        "id": "uo6V2eBUC1Le"
      },
      "outputs": [],
      "source": []
    },
    {
      "cell_type": "code",
      "execution_count": null,
      "metadata": {
        "id": "CUvAXc9WC1Le"
      },
      "outputs": [],
      "source": []
    },
    {
      "cell_type": "code",
      "execution_count": null,
      "metadata": {
        "id": "_7zlhDO-C1Le"
      },
      "outputs": [],
      "source": []
    },
    {
      "cell_type": "code",
      "execution_count": null,
      "metadata": {
        "id": "Uq6I32scC1Le"
      },
      "outputs": [],
      "source": []
    }
  ],
  "metadata": {
    "kernelspec": {
      "display_name": "Python 3",
      "language": "python",
      "name": "python3"
    },
    "language_info": {
      "codemirror_mode": {
        "name": "ipython",
        "version": 3
      },
      "file_extension": ".py",
      "mimetype": "text/x-python",
      "name": "python",
      "nbconvert_exporter": "python",
      "pygments_lexer": "ipython3",
      "version": "3.8.8"
    },
    "colab": {
      "provenance": []
    }
  },
  "nbformat": 4,
  "nbformat_minor": 0
}